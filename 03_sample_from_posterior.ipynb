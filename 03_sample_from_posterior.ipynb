{
 "cells": [
  {
   "cell_type": "code",
   "execution_count": 152,
   "id": "initial_id",
   "metadata": {
    "ExecuteTime": {
     "end_time": "2024-08-13T20:53:26.548675Z",
     "start_time": "2024-08-13T20:53:22.794978Z"
    },
    "collapsed": true
   },
   "outputs": [],
   "source": [
    "import numpy as np\n",
    "import matplotlib.pyplot as plt\n",
    "\n",
    "from scipy.stats import norm\n",
    "from tqdm import tqdm\n",
    "\n",
    "from Chempy.parameter import ModelParameters\n",
    "\n",
    "import sbi.utils as utils\n",
    "\n",
    "import torch\n",
    "from torch.distributions.normal import Normal\n",
    "from torch.distributions.uniform import Uniform\n",
    "\n",
    "import time as t\n",
    "import pickle\n",
    "\n",
    "import multiprocessing as mp"
   ]
  },
  {
   "cell_type": "code",
   "execution_count": 153,
   "id": "80ad506f",
   "metadata": {},
   "outputs": [],
   "source": [
    "name = \"NPE_C\""
   ]
  },
  {
   "cell_type": "code",
   "execution_count": 154,
   "id": "495d227bf09f16e2",
   "metadata": {
    "ExecuteTime": {
     "end_time": "2024-08-13T20:53:26.552332Z",
     "start_time": "2024-08-13T20:53:26.550533Z"
    },
    "collapsed": false
   },
   "outputs": [],
   "source": [
    "# ----- Load the data -----\n",
    "a = ModelParameters()\n",
    "labels = [a.to_optimize[i] for i in range(len(a.to_optimize))] + ['time']\n",
    "priors = torch.tensor([[a.priors[opt][0], a.priors[opt][1]] for opt in a.to_optimize])\n",
    "\n",
    "elements = a.elements_to_trace"
   ]
  },
  {
   "cell_type": "code",
   "execution_count": 155,
   "id": "5529951cacb0a7f",
   "metadata": {
    "ExecuteTime": {
     "end_time": "2024-08-13T20:53:26.777607Z",
     "start_time": "2024-08-13T20:53:26.551987Z"
    },
    "collapsed": false
   },
   "outputs": [
    {
     "name": "stderr",
     "output_type": "stream",
     "text": [
      "/export/home/bguenes/envs/master_chempy_multi/lib/python3.12/site-packages/torch/storage.py:414: FutureWarning: You are using `torch.load` with `weights_only=False` (the current default value), which uses the default pickle module implicitly. It is possible to construct malicious pickle data which will execute arbitrary code during unpickling (See https://github.com/pytorch/pytorch/blob/main/SECURITY.md#untrusted-models for more details). In a future release, the default value for `weights_only` will be flipped to `True`. This limits the functions that could be executed during unpickling. Arbitrary objects will no longer be allowed to be loaded via this mode unless they are explicitly allowlisted by the user via `torch.serialization.add_safe_globals`. We recommend you start setting `weights_only=True` for any use case where you don't have full control of the loaded file. Please open an issue on GitHub for any issues related to this experimental feature.\n",
      "  return torch.load(io.BytesIO(b))\n"
     ]
    }
   ],
   "source": [
    "# ----- Load posterior -----\n",
    "with open(f'data/posterior_{name}.pickle', 'rb') as f:\n",
    "    posterior = pickle.load(f)"
   ]
  },
  {
   "cell_type": "code",
   "execution_count": 156,
   "id": "79cff0c0c4be919d",
   "metadata": {
    "ExecuteTime": {
     "end_time": "2024-08-13T20:53:26.781393Z",
     "start_time": "2024-08-13T20:53:26.778908Z"
    },
    "collapsed": false
   },
   "outputs": [
    {
     "name": "stderr",
     "output_type": "stream",
     "text": [
      "/tmp/ipykernel_1868980/3901098474.py:16: FutureWarning: You are using `torch.load` with `weights_only=False` (the current default value), which uses the default pickle module implicitly. It is possible to construct malicious pickle data which will execute arbitrary code during unpickling (See https://github.com/pytorch/pytorch/blob/main/SECURITY.md#untrusted-models for more details). In a future release, the default value for `weights_only` will be flipped to `True`. This limits the functions that could be executed during unpickling. Arbitrary objects will no longer be allowed to be loaded via this mode unless they are explicitly allowlisted by the user via `torch.serialization.add_safe_globals`. We recommend you start setting `weights_only=True` for any use case where you don't have full control of the loaded file. Please open an issue on GitHub for any issues related to this experimental feature.\n",
      "  model.load_state_dict(torch.load('data/pytorch_state_dict.pt'))\n"
     ]
    }
   ],
   "source": [
    "# ----- Load the NN -----\n",
    "class Model_Torch(torch.nn.Module):\n",
    "    def __init__(self):\n",
    "        super(Model_Torch, self).__init__()\n",
    "        self.l1 = torch.nn.Linear(len(labels), 100)\n",
    "        self.l2 = torch.nn.Linear(100, 40)\n",
    "        self.l3 = torch.nn.Linear(40, len(elements))\n",
    "\n",
    "    def forward(self, x):\n",
    "        x = torch.tanh(self.l1(x))\n",
    "        x = torch.tanh(self.l2(x))\n",
    "        x = self.l3(x)\n",
    "        return x\n",
    "    \n",
    "model = Model_Torch()\n",
    "model.load_state_dict(torch.load('data/pytorch_state_dict.pt'))\n",
    "model.eval();"
   ]
  },
  {
   "cell_type": "markdown",
   "id": "56e02e8801701d99",
   "metadata": {
    "collapsed": false
   },
   "source": [
    "# Setup priors\n",
    "The inputs to the model are drawn from a fixed set of global galaxy parameters (slope of the IMF & Rate of Type Ia Supernove) and a set of local star parameters."
   ]
  },
  {
   "cell_type": "code",
   "execution_count": 157,
   "id": "efddaa4405fd65e8",
   "metadata": {
    "ExecuteTime": {
     "end_time": "2024-08-13T20:53:26.785070Z",
     "start_time": "2024-08-13T20:53:26.783271Z"
    },
    "collapsed": false
   },
   "outputs": [],
   "source": [
    "local_GP = utils.MultipleIndependent(\n",
    "    [Normal(p[0]*torch.ones(1), p[1]*torch.ones(1)) for p in priors[2:]] +\n",
    "    [Uniform(torch.tensor([2.0]), torch.tensor([12.8]))],\n",
    "    validate_args=False)\n",
    "\n",
    "global_GP = utils.MultipleIndependent(\n",
    "    [Normal(p[0]*torch.ones(1), p[1]*torch.ones(1)) for p in priors[:2]],\n",
    "    validate_args=False)"
   ]
  },
  {
   "cell_type": "markdown",
   "id": "686046a7128767af",
   "metadata": {
    "collapsed": false
   },
   "source": [
    "# Simulate data\n",
    "With the set global priors and for each $N_{\\rm stars}$ a set of local priors, we can simulate the data with the Neural Network."
   ]
  },
  {
   "cell_type": "code",
   "execution_count": 158,
   "id": "f4920a470881cb75",
   "metadata": {
    "ExecuteTime": {
     "end_time": "2024-08-13T20:53:26.799357Z",
     "start_time": "2024-08-13T20:53:26.786120Z"
    },
    "collapsed": false
   },
   "outputs": [],
   "source": [
    "N_stars = 10\n",
    "simulations = 1000\n",
    "\n",
    "stars = local_GP.sample((N_stars,))\n",
    "global_params = torch.tensor([[-2.3, -2.89]])\n",
    "\n",
    "stars = torch.cat((global_params.repeat(N_stars, 1), stars), dim=1)"
   ]
  },
  {
   "cell_type": "code",
   "execution_count": 159,
   "id": "63bc696db5290bc9",
   "metadata": {
    "ExecuteTime": {
     "end_time": "2024-08-13T20:53:26.829270Z",
     "start_time": "2024-08-13T20:53:26.798357Z"
    },
    "collapsed": false
   },
   "outputs": [
    {
     "name": "stdout",
     "output_type": "stream",
     "text": [
      "Time to create data for 10 stars: 0.005 s\n"
     ]
    }
   ],
   "source": [
    "# ----- Simulate abundances -----\n",
    "start = t.time()\n",
    "abundances = model(stars)  \n",
    "# Remove H from data, because it is just used for normalization (output with index 2)\n",
    "abundances = torch.cat([abundances[:,0:2], abundances[:,3:]], axis=1)\n",
    "end = t.time()\n",
    "print(f'Time to create data for {N_stars} stars: {end-start:.3f} s')"
   ]
  },
  {
   "cell_type": "markdown",
   "id": "ef5213f1",
   "metadata": {},
   "source": [
    "# SBI with 5% observation error noise\n",
    "Need to load the posterior trained with a 5% observation error"
   ]
  },
  {
   "cell_type": "code",
   "execution_count": 160,
   "id": "05c888f9",
   "metadata": {},
   "outputs": [],
   "source": [
    "def add_noise(true_abundances):\n",
    "    # Define observational erorrs\n",
    "    pc_ab = 5 # percentage error in abundance\n",
    "\n",
    "    # Jitter true abundances and birth-times by these errors to create mock observational values.\n",
    "    obs_ab_errors = np.ones_like(true_abundances)*float(pc_ab)/100.\n",
    "    obs_abundances = norm.rvs(loc=true_abundances,scale=obs_ab_errors)\n",
    "\n",
    "    return obs_abundances"
   ]
  },
  {
   "cell_type": "code",
   "execution_count": 161,
   "id": "e3dff4aa",
   "metadata": {},
   "outputs": [
    {
     "name": "stderr",
     "output_type": "stream",
     "text": [
      "100%|██████████| 10/10 [00:00<00:00, 133.79it/s]"
     ]
    },
    {
     "name": "stdout",
     "output_type": "stream",
     "text": [
      "Time to run 1000 simulations for 10 stars: 0.082 s\n"
     ]
    },
    {
     "name": "stderr",
     "output_type": "stream",
     "text": [
      "\n"
     ]
    }
   ],
   "source": [
    "alpha_IMF_obs = []\n",
    "log10_N_Ia_obs = []\n",
    "simulations = 1000\n",
    "\n",
    "start = t.time()\n",
    "for i in tqdm(range(len(abundances))):\n",
    "    x = add_noise(abundances[i].detach().numpy())\n",
    "    alpha, N_Ia = posterior.sample((simulations,), x=x, show_progress_bars=False)[:,0:2].T\n",
    "    alpha_IMF_obs.append(alpha)\n",
    "    log10_N_Ia_obs.append(N_Ia)\n",
    "end = t.time()\n",
    "print(f'Time to run {simulations} simulations for {N_stars} stars: {end-start:.3f} s')\n",
    "\n",
    "alpha_IMF_obs = np.array(alpha_IMF_obs)\n",
    "log10_N_Ia_obs = np.array(log10_N_Ia_obs)"
   ]
  },
  {
   "cell_type": "code",
   "execution_count": 162,
   "id": "80a76edf",
   "metadata": {},
   "outputs": [],
   "source": [
    "# save the data\n",
    "np.save(f'data/alpha_IMF_obs_{name}.npy', alpha_IMF_obs)\n",
    "np.save(f'data/log10_N_Ia_obs_{name}.npy', log10_N_Ia_obs)"
   ]
  },
  {
   "cell_type": "code",
   "execution_count": 163,
   "id": "6e5006e5",
   "metadata": {},
   "outputs": [
    {
     "data": {
      "text/plain": [
       "(10, 1000)"
      ]
     },
     "execution_count": 163,
     "metadata": {},
     "output_type": "execute_result"
    }
   ],
   "source": [
    "alpha_IMF_obs.shape"
   ]
  },
  {
   "cell_type": "code",
   "execution_count": 164,
   "id": "2870e793",
   "metadata": {},
   "outputs": [
    {
     "data": {
      "text/plain": [
       "-2.32673"
      ]
     },
     "execution_count": 164,
     "metadata": {},
     "output_type": "execute_result"
    }
   ],
   "source": [
    "alpha_IMF_obs[0].mean()"
   ]
  },
  {
   "cell_type": "code",
   "execution_count": 172,
   "id": "b96d2b39",
   "metadata": {},
   "outputs": [],
   "source": [
    "mu_alpha, sigma_alpha = alpha_IMF_obs.mean(axis=1), alpha_IMF_obs.std(axis=1)\n",
    "mu_N_Ia, sigma_N_Ia = log10_N_Ia_obs.mean(axis=1), log10_N_Ia_obs.std(axis=1)"
   ]
  },
  {
   "cell_type": "code",
   "execution_count": 173,
   "id": "2d07c0ab",
   "metadata": {},
   "outputs": [],
   "source": [
    "x_alpha = np.linspace(-4, 0, 1000)\n",
    "x_N_Ia = np.linspace(-4, 0, 1000)"
   ]
  },
  {
   "cell_type": "code",
   "execution_count": 174,
   "id": "d983dc1f",
   "metadata": {},
   "outputs": [],
   "source": [
    "log_pdf_alpha = np.zeros_like(x_alpha)\n",
    "log_pdf_N_Ia = np.zeros_like(x_N_Ia)\n",
    "\n",
    "for i in range(len(mu_alpha)):\n",
    "    y_alpha = norm.logpdf(x_alpha, mu_alpha[i], sigma_alpha[i])\n",
    "    y_N_Ia = norm.logpdf(x_N_Ia, mu_N_Ia[i], sigma_N_Ia[i])\n",
    "\n",
    "    log_pdf_alpha += y_alpha\n",
    "    log_pdf_N_Ia += y_N_Ia"
   ]
  },
  {
   "cell_type": "code",
   "execution_count": 175,
   "id": "83072588",
   "metadata": {},
   "outputs": [
    {
     "data": {
      "text/plain": [
       "(-2.2942942942942945, -2.8708708708708706)"
      ]
     },
     "execution_count": 175,
     "metadata": {},
     "output_type": "execute_result"
    }
   ],
   "source": [
    "x_alpha[log_pdf_alpha.argmax()], x_N_Ia[log_pdf_N_Ia.argmax()]"
   ]
  },
  {
   "cell_type": "code",
   "execution_count": 176,
   "id": "8a0787f4",
   "metadata": {},
   "outputs": [
    {
     "data": {
      "image/png": "[encoded data removed]",
      "text/plain": [
       "<Figure size 640x480 with 1 Axes>"
      ]
     },
     "metadata": {},
     "output_type": "display_data"
    }
   ],
   "source": [
    "plt.plot(x_alpha, np.exp(log_pdf_alpha- log_pdf_alpha.max()), label=r'$\\alpha_{\\rm IMF}$', color='b')\n",
    "plt.vlines(x_alpha[log_pdf_alpha.argmax()], 0, 1, color='b', linestyle='--', label=r'Predicted value:{:.2f}'.format(x_alpha[log_pdf_alpha.argmax()]))  \n",
    "plt.vlines(global_params[0,0], 0, 1, color='k', linestyle='--', label=r'True value:{:.2f}'.format(global_params[0,0]))  \n",
    "\n",
    "plt.plot(x_N_Ia, np.exp(log_pdf_N_Ia- log_pdf_N_Ia.max()), label=r'$\\log_{10} N_{\\rm Ia}$', color='r')\n",
    "plt.vlines(x_N_Ia[log_pdf_N_Ia.argmax()], 0, 1, color='r', linestyle='--', label=r'Predicted value:{:.2f}'.format(x_N_Ia[log_pdf_N_Ia.argmax()]))\n",
    "plt.vlines(global_params[0,1], 0, 1, color='k', linestyle='--', label=r'True value:{:.2f}'.format(global_params[0,1]))\n",
    "\n",
    "plt.xlabel(r'$\\alpha_{\\rm IMF}$')\n",
    "plt.ylabel('Probability density')\n",
    "plt.legend()\n",
    "plt.show()"
   ]
  },
  {
   "cell_type": "code",
   "execution_count": null,
   "id": "cd78f801",
   "metadata": {},
   "outputs": [],
   "source": []
  }
 ],
 "metadata": {
  "kernelspec": {
   "display_name": "master_chempy_multi",
   "language": "python",
   "name": "python3"
  },
  "language_info": {
   "codemirror_mode": {
    "name": "ipython",
    "version": 3
   },
   "file_extension": ".py",
   "mimetype": "text/x-python",
   "name": "python",
   "nbconvert_exporter": "python",
   "pygments_lexer": "ipython3",
   "version": "3.12.3"
  }
 },
 "nbformat": 4,
 "nbformat_minor": 5
}
