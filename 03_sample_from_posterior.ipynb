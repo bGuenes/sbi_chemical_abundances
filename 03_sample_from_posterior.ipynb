{
 "cells": [
  {
   "cell_type": "code",
   "execution_count": 39,
   "id": "initial_id",
   "metadata": {
    "ExecuteTime": {
     "end_time": "2024-08-13T20:53:26.548675Z",
     "start_time": "2024-08-13T20:53:22.794978Z"
    },
    "collapsed": true
   },
   "outputs": [],
   "source": [
    "import numpy as np\n",
    "import matplotlib.pyplot as plt\n",
    "\n",
    "from scipy.stats import norm\n",
    "from tqdm import tqdm\n",
    "\n",
    "from Chempy.parameter import ModelParameters\n",
    "\n",
    "import sbi.utils as utils\n",
    "\n",
    "import torch\n",
    "from torch.distributions.normal import Normal\n",
    "from torch.distributions.uniform import Uniform\n",
    "\n",
    "import time as t\n",
    "import pickle\n",
    "\n",
    "import multiprocessing as mp"
   ]
  },
  {
   "cell_type": "code",
   "execution_count": 40,
   "id": "80ad506f",
   "metadata": {},
   "outputs": [],
   "source": [
    "name = \"NPE_C\""
   ]
  },
  {
   "cell_type": "code",
   "execution_count": 41,
   "id": "495d227bf09f16e2",
   "metadata": {
    "ExecuteTime": {
     "end_time": "2024-08-13T20:53:26.552332Z",
     "start_time": "2024-08-13T20:53:26.550533Z"
    },
    "collapsed": false
   },
   "outputs": [],
   "source": [
    "# ----- Load the data -----\n",
    "a = ModelParameters()\n",
    "labels = [a.to_optimize[i] for i in range(len(a.to_optimize))] + ['time']\n",
    "priors = torch.tensor([[a.priors[opt][0], a.priors[opt][1]] for opt in a.to_optimize])\n",
    "\n",
    "elements = a.elements_to_trace"
   ]
  },
  {
   "cell_type": "code",
   "execution_count": 42,
   "id": "97a9cd88",
   "metadata": {},
   "outputs": [],
   "source": [
    "import math\n",
    "from typing import Callable, Optional\n",
    "\n",
    "import torch\n",
    "\n",
    "from sbi.sbi_types import Shape\n",
    "\n",
    "class DispersedPosterior:\n",
    "    def __init__(self, posterior: Callable, dispersion: float = 1.05):\n",
    "        \"\"\"give me a posterior and I'll disperse it. All calls to `sample` are wrapped.\n",
    "        This class exploits: Var(aX) = a**2 * Var(X) for any random variable X\n",
    "        while retaining the expectation value E[X] of all samples.\n",
    "\n",
    "        Parameters:\n",
    "            posterior: posterior distribution modelled like NeuralPosterior\n",
    "            dispersion: choose values <1. to make the variance smaller,\n",
    "                choose values >1. to make the variance larger (distribution more wide)\n",
    "        \"\"\"\n",
    "\n",
    "        self.dispersion = math.sqrt(dispersion)\n",
    "        self.posterior = posterior\n",
    "\n",
    "    def set_default_x(self, x):\n",
    "        self.posterior.set_default_x(x)\n",
    "\n",
    "    def sample(\n",
    "        self,\n",
    "        sample_shape: Shape,\n",
    "        x: Optional[torch.Tensor] = None,\n",
    "        show_progress_bars: bool = False,\n",
    "    ):\n",
    "        value = self.posterior.sample(\n",
    "            sample_shape, x, show_progress_bars=show_progress_bars\n",
    "        )\n",
    "\n",
    "        # obtain the median of all samples before applying\n",
    "        # the dispersion to them (use median for more robust estimate)\n",
    "        median = torch.median(value, dim=0)  # dim 0 is the batch dimension\n",
    "\n",
    "        # disperse the samples\n",
    "        dispersed = value * self.dispersion\n",
    "\n",
    "        # obtain the new median after the dispersion\n",
    "        median_ = torch.median(dispersed, dim=0)\n",
    "\n",
    "        # shift to obtain the original expectation values\n",
    "        # (we only want to disperse the samples, not offset)\n",
    "        shift = median.values - median_.values\n",
    "\n",
    "        return dispersed + shift\n",
    "\n",
    "    def sample_batched(\n",
    "        self,\n",
    "        sample_shape: Shape,\n",
    "        x: Optional[torch.Tensor] = None,\n",
    "        show_progress_bars: bool = False,\n",
    "    ):\n",
    "        value = self.posterior.sample_batched(\n",
    "            sample_shape, x, show_progress_bars=show_progress_bars\n",
    "        )\n",
    "\n",
    "        # obtain the median of all samples before applying\n",
    "        # the dispersion to them (use median for more robust estimate)\n",
    "        median = torch.median(value, dim=0)\n",
    "\n",
    "        # disperse the samples\n",
    "        dispersed = value * self.dispersion\n",
    "\n",
    "        # obtain the new median after the dispersion\n",
    "        median_ = torch.median(dispersed, dim=0)\n",
    "\n",
    "        # shift to obtain the original expectation values\n",
    "        # (we only want to disperse the samples, not offset)\n",
    "        shift = median.values - median_.values\n",
    "\n",
    "        return dispersed + shift"
   ]
  },
  {
   "cell_type": "code",
   "execution_count": 43,
   "id": "5529951cacb0a7f",
   "metadata": {
    "ExecuteTime": {
     "end_time": "2024-08-13T20:53:26.777607Z",
     "start_time": "2024-08-13T20:53:26.551987Z"
    },
    "collapsed": false
   },
   "outputs": [],
   "source": [
    "# ----- Load posterior -----\n",
    "with open(f'data/posterior_{name}.pickle', 'rb') as f:\n",
    "    posterior = pickle.load(f)"
   ]
  },
  {
   "cell_type": "code",
   "execution_count": 44,
   "id": "79cff0c0c4be919d",
   "metadata": {
    "ExecuteTime": {
     "end_time": "2024-08-13T20:53:26.781393Z",
     "start_time": "2024-08-13T20:53:26.778908Z"
    },
    "collapsed": false
   },
   "outputs": [
    {
     "name": "stderr",
     "output_type": "stream",
     "text": [
      "/tmp/ipykernel_1403316/3901098474.py:16: FutureWarning: You are using `torch.load` with `weights_only=False` (the current default value), which uses the default pickle module implicitly. It is possible to construct malicious pickle data which will execute arbitrary code during unpickling (See https://github.com/pytorch/pytorch/blob/main/SECURITY.md#untrusted-models for more details). In a future release, the default value for `weights_only` will be flipped to `True`. This limits the functions that could be executed during unpickling. Arbitrary objects will no longer be allowed to be loaded via this mode unless they are explicitly allowlisted by the user via `torch.serialization.add_safe_globals`. We recommend you start setting `weights_only=True` for any use case where you don't have full control of the loaded file. Please open an issue on GitHub for any issues related to this experimental feature.\n",
      "  model.load_state_dict(torch.load('data/pytorch_state_dict.pt'))\n"
     ]
    }
   ],
   "source": [
    "# ----- Load the NN -----\n",
    "class Model_Torch(torch.nn.Module):\n",
    "    def __init__(self):\n",
    "        super(Model_Torch, self).__init__()\n",
    "        self.l1 = torch.nn.Linear(len(labels), 100)\n",
    "        self.l2 = torch.nn.Linear(100, 40)\n",
    "        self.l3 = torch.nn.Linear(40, len(elements))\n",
    "\n",
    "    def forward(self, x):\n",
    "        x = torch.tanh(self.l1(x))\n",
    "        x = torch.tanh(self.l2(x))\n",
    "        x = self.l3(x)\n",
    "        return x\n",
    "    \n",
    "model = Model_Torch()\n",
    "model.load_state_dict(torch.load('data/pytorch_state_dict.pt'))\n",
    "model.eval();"
   ]
  },
  {
   "cell_type": "markdown",
   "id": "56e02e8801701d99",
   "metadata": {
    "collapsed": false
   },
   "source": [
    "# Setup priors\n",
    "The inputs to the model are drawn from a fixed set of global galaxy parameters (slope of the IMF & Rate of Type Ia Supernove) and a set of local star parameters."
   ]
  },
  {
   "cell_type": "code",
   "execution_count": 45,
   "id": "efddaa4405fd65e8",
   "metadata": {
    "ExecuteTime": {
     "end_time": "2024-08-13T20:53:26.785070Z",
     "start_time": "2024-08-13T20:53:26.783271Z"
    },
    "collapsed": false
   },
   "outputs": [],
   "source": [
    "local_GP = utils.MultipleIndependent(\n",
    "    [Normal(p[0]*torch.ones(1), p[1]*torch.ones(1)) for p in priors[2:]] +\n",
    "    [Uniform(torch.tensor([2.0]), torch.tensor([12.8]))],\n",
    "    validate_args=False)\n",
    "\n",
    "global_GP = utils.MultipleIndependent(\n",
    "    [Normal(p[0]*torch.ones(1), p[1]*torch.ones(1)) for p in priors[:2]],\n",
    "    validate_args=False)"
   ]
  },
  {
   "cell_type": "markdown",
   "id": "686046a7128767af",
   "metadata": {
    "collapsed": false
   },
   "source": [
    "# Simulate data\n",
    "With the set global priors and for each $N_{\\rm stars}$ a set of local priors, we can simulate the data with the Neural Network."
   ]
  },
  {
   "cell_type": "code",
   "execution_count": 46,
   "id": "f4920a470881cb75",
   "metadata": {
    "ExecuteTime": {
     "end_time": "2024-08-13T20:53:26.799357Z",
     "start_time": "2024-08-13T20:53:26.786120Z"
    },
    "collapsed": false
   },
   "outputs": [],
   "source": [
    "N_stars = 1000\n",
    "simulations = 1000\n",
    "\n",
    "stars = local_GP.sample((N_stars,))\n",
    "global_params = torch.tensor([[-2.3, -2.89]])\n",
    "\n",
    "stars = torch.cat((global_params.repeat(N_stars, 1), stars), dim=1)"
   ]
  },
  {
   "cell_type": "code",
   "execution_count": 47,
   "id": "63bc696db5290bc9",
   "metadata": {
    "ExecuteTime": {
     "end_time": "2024-08-13T20:53:26.829270Z",
     "start_time": "2024-08-13T20:53:26.798357Z"
    },
    "collapsed": false
   },
   "outputs": [
    {
     "name": "stdout",
     "output_type": "stream",
     "text": [
      "Time to create data for 1000 stars: 0.041 s\n"
     ]
    }
   ],
   "source": [
    "# ----- Simulate abundances -----\n",
    "start = t.time()\n",
    "abundances = model(stars)  \n",
    "# Remove H from data, because it is just used for normalization (output with index 2)\n",
    "abundances = torch.cat([abundances[:,0:2], abundances[:,3:]], axis=1)\n",
    "end = t.time()\n",
    "print(f'Time to create data for {N_stars} stars: {end-start:.3f} s')"
   ]
  },
  {
   "cell_type": "markdown",
   "id": "ef5213f1",
   "metadata": {},
   "source": [
    "# SBI with 5% observation error noise\n",
    "Need to load the posterior trained with a 5% observation error"
   ]
  },
  {
   "cell_type": "code",
   "execution_count": 48,
   "id": "05c888f9",
   "metadata": {},
   "outputs": [],
   "source": [
    "def add_noise(true_abundances):\n",
    "    # Define observational erorrs\n",
    "    pc_ab = 5 # percentage error in abundance\n",
    "\n",
    "    # Jitter true abundances and birth-times by these errors to create mock observational values.\n",
    "    obs_ab_errors = np.ones_like(true_abundances)*float(pc_ab)/100.\n",
    "    obs_abundances = norm.rvs(loc=true_abundances,scale=obs_ab_errors)\n",
    "\n",
    "    return obs_abundances"
   ]
  },
  {
   "cell_type": "code",
   "execution_count": 49,
   "id": "e3dff4aa",
   "metadata": {},
   "outputs": [
    {
     "name": "stderr",
     "output_type": "stream",
     "text": [
      "100%|██████████| 1000/1000 [00:12<00:00, 79.92it/s]"
     ]
    },
    {
     "name": "stdout",
     "output_type": "stream",
     "text": [
      "Time to run 1000 simulations for 1000 stars: 12.523 s\n"
     ]
    },
    {
     "name": "stderr",
     "output_type": "stream",
     "text": [
      "\n"
     ]
    }
   ],
   "source": [
    "alpha_IMF_obs = []\n",
    "log10_N_Ia_obs = []\n",
    "simulations = 1000\n",
    "\n",
    "start = t.time()\n",
    "for i in tqdm(range(len(abundances))):\n",
    "    x = add_noise(abundances[i].detach().numpy())\n",
    "    alpha, N_Ia = posterior.sample((simulations,), x=x, show_progress_bars=False)[:,0:2].T\n",
    "    alpha_IMF_obs.append(alpha)\n",
    "    log10_N_Ia_obs.append(N_Ia)\n",
    "end = t.time()\n",
    "print(f'Time to run {simulations} simulations for {N_stars} stars: {end-start:.3f} s')\n",
    "\n",
    "alpha_IMF_obs = np.array(alpha_IMF_obs)\n",
    "log10_N_Ia_obs = np.array(log10_N_Ia_obs)"
   ]
  },
  {
   "cell_type": "code",
   "execution_count": 50,
   "id": "80a76edf",
   "metadata": {},
   "outputs": [],
   "source": [
    "# save the data\n",
    "np.save(f'data/alpha_IMF_obs_{name}.npy', alpha_IMF_obs)\n",
    "np.save(f'data/log10_N_Ia_obs_{name}.npy', log10_N_Ia_obs)"
   ]
  }
 ],
 "metadata": {
  "kernelspec": {
   "display_name": "master_chempy_multi",
   "language": "python",
   "name": "python3"
  },
  "language_info": {
   "codemirror_mode": {
    "name": "ipython",
    "version": 3
   },
   "file_extension": ".py",
   "mimetype": "text/x-python",
   "name": "python",
   "nbconvert_exporter": "python",
   "pygments_lexer": "ipython3",
   "version": "3.12.3"
  }
 },
 "nbformat": 4,
 "nbformat_minor": 5
}
