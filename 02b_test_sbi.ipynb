{
 "cells": [
  {
   "cell_type": "code",
   "execution_count": 1,
   "metadata": {},
   "outputs": [],
   "source": [
    "import numpy as np\n",
    "\n",
    "from scipy.stats import norm\n",
    "from tqdm import tqdm\n",
    "import os\n",
    "\n",
    "from Chempy.parameter import ModelParameters\n",
    "\n",
    "import sbi.utils as utils\n",
    "\n",
    "import torch\n",
    "from torch.distributions.normal import Normal\n",
    "from torch.distributions.uniform import Uniform\n",
    "\n",
    "import time as t\n",
    "import pickle\n",
    "\n",
    "import multiprocessing as mp\n",
    "import matplotlib.pyplot as plt\n",
    "\n",
    "from plot_functions import *"
   ]
  },
  {
   "cell_type": "code",
   "execution_count": 2,
   "metadata": {},
   "outputs": [],
   "source": [
    "# ----- Load the data -----\n",
    "a = ModelParameters()\n",
    "labels = [a.to_optimize[i] for i in range(len(a.to_optimize))] + ['time']\n",
    "priors = torch.tensor([[a.priors[opt][0], a.priors[opt][1]] for opt in a.to_optimize])\n",
    "\n",
    "elements = a.elements_to_trace"
   ]
  },
  {
   "cell_type": "code",
   "execution_count": 3,
   "metadata": {},
   "outputs": [
    {
     "name": "stderr",
     "output_type": "stream",
     "text": [
      "/tmp/ipykernel_701510/505595515.py:1: FutureWarning: You are using `torch.load` with `weights_only=False` (the current default value), which uses the default pickle module implicitly. It is possible to construct malicious pickle data which will execute arbitrary code during unpickling (See https://github.com/pytorch/pytorch/blob/main/SECURITY.md#untrusted-models for more details). In a future release, the default value for `weights_only` will be flipped to `True`. This limits the functions that could be executed during unpickling. Arbitrary objects will no longer be allowed to be loaded via this mode unless they are explicitly allowlisted by the user via `torch.serialization.add_safe_globals`. We recommend you start setting `weights_only=True` for any use case where you don't have full control of the loaded file. Please open an issue on GitHub for any issues related to this experimental feature.\n",
      "  ape = torch.load('data/ape_sbi_w5p-error_noH.pt')\n"
     ]
    }
   ],
   "source": [
    "ape = torch.load('data/ape_sbi_w5p-error_noH.pt')"
   ]
  },
  {
   "cell_type": "code",
   "execution_count": 4,
   "metadata": {},
   "outputs": [
    {
     "data": {
      "text/plain": [
       "torch.Size([45771, 6])"
      ]
     },
     "execution_count": 4,
     "metadata": {},
     "output_type": "execute_result"
    }
   ],
   "source": [
    "ape.shape"
   ]
  },
  {
   "cell_type": "code",
   "execution_count": 5,
   "metadata": {},
   "outputs": [
    {
     "name": "stdout",
     "output_type": "stream",
     "text": [
      "\n",
      "APE of the Posterior:\n",
      "Median + upper quantile - lower quantile\n",
      "Total : 13.7% + 22.1 - 10.6\n",
      "\n",
      "high_mass_slope : 1.9% + 1.8 - 1.0\n",
      "log10_N_0 : 2.6% + 2.5 - 1.5\n",
      "log10_starformation_efficiency : 71.0% + 90.1 - 31.5\n",
      "log10_sfr_scale : 19.6% + 12.1 - 9.9\n",
      "outflow_feedback_fraction : 24.4% + 17.7 - 12.6\n",
      "time : 19.4% + 12.8 - 9.2\n",
      "\n"
     ]
    },
    {
     "data": {
      "text/plain": [
       "<Figure size 640x480 with 0 Axes>"
      ]
     },
     "metadata": {},
     "output_type": "display_data"
    }
   ],
   "source": [
    "ape_plot(ape, labels, os.path.join(os.getcwd(), 'ape_test.png'))"
   ]
  },
  {
   "cell_type": "code",
   "execution_count": null,
   "metadata": {},
   "outputs": [],
   "source": [
    "ape.flatten().shape"
   ]
  },
  {
   "cell_type": "code",
   "execution_count": null,
   "metadata": {},
   "outputs": [],
   "source": [
    "np.percentile(ape, [25, 50, 75])"
   ]
  },
  {
   "cell_type": "code",
   "execution_count": null,
   "metadata": {},
   "outputs": [],
   "source": [
    "ape.T[:,:1000].shape"
   ]
  },
  {
   "cell_type": "code",
   "execution_count": null,
   "metadata": {},
   "outputs": [],
   "source": [
    "ape.shape"
   ]
  },
  {
   "cell_type": "code",
   "execution_count": null,
   "metadata": {},
   "outputs": [],
   "source": [
    "plt.boxplot(ape, vert=False, autorange=False, widths=0.5, patch_artist=True, showfliers=False)"
   ]
  },
  {
   "cell_type": "code",
   "execution_count": null,
   "metadata": {},
   "outputs": [],
   "source": [
    "fig, (ax_box, ax_hist) = plt.subplots(2, sharex=True, gridspec_kw={\"height_ratios\": (.20, .80)})\n",
    "colors = [\"tomato\", \"skyblue\", \"olive\", \"gold\", \"teal\", \"orchid\"]\n",
    "\n",
    "print(\"APE of the posterior:\")\n",
    "print(\"Median + upper quantile - lower quantile\")\n",
    "l_quantile, median, u_quantile = np.percentile(ape, [25, 50, 75])\n",
    "print(f\"Total : {median:.1f}% + {u_quantile-median:.1f} - {median-l_quantile:.1f}\")\n",
    "print(\"\")\n",
    "\n",
    "for i in range(ape.shape[1]):\n",
    "    l_quantile, median, u_quantile = np.percentile(ape[:,i], [25, 50, 75])\n",
    "    ax_hist.hist(ape[:,i], bins=25, density=True, range=(0, 100), label=labels[i], color=colors[i], alpha=0.5)\n",
    "    median = np.percentile(ape[:,i], 50)\n",
    "    ax_hist.axvline(median, color=colors[i], linestyle='--')\n",
    "    #print(labels[i] + fr' ${median:.1f}^{{+{u_quantile-median:.1f}}}_{{-{median-l_quantile:.1f}}}\\%$')\n",
    "    print(labels[i] + f\" : {median:.1f}% + {u_quantile-median:.1f} - {median-l_quantile:.1f}\")\n",
    "    \n",
    "ax_hist.set_xlabel('Error (%)', fontsize=15)\n",
    "ax_hist.set_ylabel('Density', fontsize=15)\n",
    "ax_hist.spines['top'].set_visible(False)\n",
    "ax_hist.spines['right'].set_visible(False)\n",
    "ax_hist.legend()\n",
    "\n",
    "bplot = ax_box.boxplot(ape, vert=False, autorange=False, widths=0.5, patch_artist=True, showfliers=False, boxprops=dict(facecolor='tomato'), medianprops=dict(color='black'))\n",
    "#plt.style.use('dark_background')\n",
    "for patch, color in zip(bplot['boxes'], colors):\n",
    "    patch.set_facecolor(color)\n",
    "ax_box.set(yticks=[])\n",
    "ax_box.spines['left'].set_visible(False)\n",
    "ax_box.spines['right'].set_visible(False)\n",
    "ax_box.spines['top'].set_visible(False)\n",
    "\n",
    "fig.suptitle('APE of the Posterior', fontsize=20)\n",
    "plt.xlim(0, 100)\n",
    "fig.tight_layout()\n",
    "plt.show()"
   ]
  },
  {
   "cell_type": "code",
   "execution_count": null,
   "metadata": {},
   "outputs": [],
   "source": [
    "ape.T"
   ]
  }
 ],
 "metadata": {
  "kernelspec": {
   "display_name": "master_chempy_multi",
   "language": "python",
   "name": "python3"
  },
  "language_info": {
   "codemirror_mode": {
    "name": "ipython",
    "version": 3
   },
   "file_extension": ".py",
   "mimetype": "text/x-python",
   "name": "python",
   "nbconvert_exporter": "python",
   "pygments_lexer": "ipython3",
   "version": "3.12.3"
  }
 },
 "nbformat": 4,
 "nbformat_minor": 2
}
